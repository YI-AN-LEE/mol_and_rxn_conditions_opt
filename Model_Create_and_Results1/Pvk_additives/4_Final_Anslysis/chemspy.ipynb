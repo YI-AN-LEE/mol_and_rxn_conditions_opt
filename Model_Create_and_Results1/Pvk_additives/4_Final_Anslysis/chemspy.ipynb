{
 "cells": [
  {
   "cell_type": "code",
   "execution_count": 8,
   "metadata": {},
   "outputs": [
    {
     "name": "stdout",
     "output_type": "stream",
     "text": [
      "C_{9}H_{8}O_{4}\n"
     ]
    }
   ],
   "source": [
    "from chemspipy import ChemSpider\n",
    "cs = ChemSpider('xuuflsmJo12zAE1pn1BmujIdWlRrf0O1gQ2v0lDd')\n",
    "c = cs.get_compound(2157)\n",
    "\n",
    "print(c.molecular_formula)"
   ]
  },
  {
   "cell_type": "code",
   "execution_count": 11,
   "metadata": {},
   "outputs": [
    {
     "data": {
      "text/plain": [
       "Results(Created)"
      ]
     },
     "execution_count": 11,
     "metadata": {},
     "output_type": "execute_result"
    }
   ],
   "source": [
    "cs.search('CC1C[NH2+]CC1c1ccccc1')"
   ]
  }
 ],
 "metadata": {
  "kernelspec": {
   "display_name": "chemprop",
   "language": "python",
   "name": "python3"
  },
  "language_info": {
   "codemirror_mode": {
    "name": "ipython",
    "version": 3
   },
   "file_extension": ".py",
   "mimetype": "text/x-python",
   "name": "python",
   "nbconvert_exporter": "python",
   "pygments_lexer": "ipython3",
   "version": "3.12.11"
  }
 },
 "nbformat": 4,
 "nbformat_minor": 2
}

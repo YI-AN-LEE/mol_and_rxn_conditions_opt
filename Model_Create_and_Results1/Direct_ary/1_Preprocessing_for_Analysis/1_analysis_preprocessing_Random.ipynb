{
 "cells": [
  {
   "cell_type": "code",
   "execution_count": null,
   "metadata": {},
   "outputs": [],
   "source": [
    "import os\n",
    "import re\n",
    "import shutil\n",
    "\n",
    "import matplotlib.pyplot as plt\n",
    "\n",
    "# TARGET_NAME = 'Reation Yield'"
   ]
  },
  {
   "cell_type": "code",
   "execution_count": null,
   "metadata": {},
   "outputs": [],
   "source": [
    "#methods = ['ABC', 'GA', 'PSO', 'SA']\n",
    "methods = ['ABC', 'PSO']\n",
    "methods = ['Random/round1', 'Random/round2', 'Random/round3', 'Random/round4', 'Random/round5','Random/round6','Random/round7', 'Random/round8', 'Random/round9', 'Random/round10']\n",
    "sub_categories = ['c2']\n",
    "\n",
    "# current_folder = os.getcwd() \n",
    "current_folder = '/home/ianlee/opt_ian/Model_Create_and_Results1/Direct_ary/1_Preprocessing_for_Analysis'\n",
    "print(current_folder)\n",
    "for method in methods:\n",
    "    print(f'{method} Part:')\n",
    "    folder_path = os.path.join(current_folder, f'{method}/{sub_categories[0]}')\n",
    "    os.chdir(folder_path)\n",
    "\n",
    "    file_names = [file for file in os.listdir(os.getcwd()) if '.sh.o' in file]\n",
    "\n",
    "\n",
    "    for file_name in file_names:\n",
    "\n",
    "        num = file_name.split(\".sh.o\")[1]\n",
    "        folder_name = \"Result\" + num\n",
    "        os.makedirs(folder_name, exist_ok=True)\n",
    "        \n",
    "\n",
    "        shutil.move(file_name, folder_name)\n",
    "        rank = 1\n",
    "        folder_path = os.path.join(os.getcwd(), folder_name)\n",
    "    os.chdir(current_folder)  # change back to the original directory"
   ]
  }
 ],
 "metadata": {
  "kernelspec": {
   "display_name": "leveler2",
   "language": "python",
   "name": "python3"
  },
  "language_info": {
   "codemirror_mode": {
    "name": "ipython",
    "version": 3
   },
   "file_extension": ".py",
   "mimetype": "text/x-python",
   "name": "python",
   "nbconvert_exporter": "python",
   "pygments_lexer": "ipython3",
   "version": "3.8.6"
  }
 },
 "nbformat": 4,
 "nbformat_minor": 2
}
